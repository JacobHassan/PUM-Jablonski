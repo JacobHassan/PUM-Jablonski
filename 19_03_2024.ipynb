{
  "nbformat": 4,
  "nbformat_minor": 0,
  "metadata": {
    "colab": {
      "provenance": [],
      "authorship_tag": "ABX9TyNsF5QsoZDrDJI4JhR1zI+y",
      "include_colab_link": true
    },
    "kernelspec": {
      "name": "python3",
      "display_name": "Python 3"
    },
    "language_info": {
      "name": "python"
    }
  },
  "cells": [
    {
      "cell_type": "markdown",
      "metadata": {
        "id": "view-in-github",
        "colab_type": "text"
      },
      "source": [
        "<a href=\"https://colab.research.google.com/github/JacobHassan/PUM-Jablonski/blob/main/19_03_2024.ipynb\" target=\"_parent\"><img src=\"https://colab.research.google.com/assets/colab-badge.svg\" alt=\"Open In Colab\"/></a>"
      ]
    },
    {
      "cell_type": "code",
      "execution_count": 41,
      "metadata": {
        "id": "aUyKM4fqfejx",
        "colab": {
          "base_uri": "https://localhost:8080/"
        },
        "outputId": "6f4b81dd-1c1a-451a-f366-e525eabc43ab"
      },
      "outputs": [
        {
          "output_type": "stream",
          "name": "stdout",
          "text": [
            "Training R^2 score: 0.901060004949187\n",
            "Testing R^2 score: 0.901060004949187\n"
          ]
        }
      ],
      "source": [
        "import pandas as pd\n",
        "import numpy as np\n",
        "from sklearn.preprocessing import LabelEncoder\n",
        "from sklearn.linear_model import LinearRegression\n",
        "from sklearn.model_selection import train_test_split\n",
        "from sklearn.metrics import mean_absolute_error, median_absolute_error, r2_score\n",
        "df = pd.read_csv(\"Salary Data (2) (2).csv\")\n",
        "le = LabelEncoder()\n",
        "df.dtypes\n",
        "columns = [\"Gender\",\"Job Title\",\"Education Level\",]\n",
        "df[columns] = df[columns].apply(LabelEncoder().fit_transform)\n",
        "df.dropna(subset=['Age', 'Years of Experience', 'Salary'], how='any', inplace=True)\n",
        "\n",
        "\n",
        "# Split the data into training and testing sets\n",
        "train_df, test_df = train_test_split(df, test_size=0.3, random_state=40)\n",
        "X_train = df[['Age','Gender','Job Title','Years of Experience','Education Level']]\n",
        "y_train = df['Salary']\n",
        "X_test = df[['Age','Gender','Job Title','Years of Experience','Education Level']]\n",
        "y_test = df['Salary']\n",
        "reg = LinearRegression().fit(X_train, y_train)\n",
        "\n",
        "\n",
        "# Calculate R^2 score on the training and testing sets\n",
        "train_score = reg.score(X_train, y_train)\n",
        "test_score = reg.score(X_test, y_test)\n",
        "print(\"Training R^2 score:\", train_score)\n",
        "print(\"Testing R^2 score:\", test_score)\n",
        "\n",
        "reg.coef_\n",
        "reg.intercept_\n",
        "y_predict = reg.predict(X_test)\n",
        "\n",
        "\n",
        "\n"
      ]
    },
    {
      "cell_type": "code",
      "source": [
        "print(df.head())"
      ],
      "metadata": {
        "colab": {
          "base_uri": "https://localhost:8080/"
        },
        "id": "oZ_57nHS6yYh",
        "outputId": "3e8f6769-849e-413d-cf92-3b62f00926fe"
      },
      "execution_count": 46,
      "outputs": [
        {
          "output_type": "stream",
          "name": "stdout",
          "text": [
            "    Age  Gender  Education Level  Job Title  Years of Experience    Salary\n",
            "0  32.0       1                0        159                  5.0   90000.0\n",
            "1  28.0       0                1         17                  3.0   65000.0\n",
            "2  45.0       1                2        130                 15.0  150000.0\n",
            "3  36.0       0                0        101                  7.0   60000.0\n",
            "4  52.0       1                1         22                 20.0  200000.0\n"
          ]
        }
      ]
    },
    {
      "cell_type": "code",
      "source": [
        "y_true = y_test\n",
        "mean_absolute_error(y_true,y_predict)"
      ],
      "metadata": {
        "colab": {
          "base_uri": "https://localhost:8080/"
        },
        "id": "e9pNpbNM4_bL",
        "outputId": "0c248e52-a020-4ff2-aa8d-344e693103c5"
      },
      "execution_count": 45,
      "outputs": [
        {
          "output_type": "execute_result",
          "data": {
            "text/plain": [
              "11010.6086070049"
            ]
          },
          "metadata": {},
          "execution_count": 45
        }
      ]
    },
    {
      "cell_type": "markdown",
      "source": [
        "# Nowa sekcja"
      ],
      "metadata": {
        "id": "O6kVdnaxtZD3"
      }
    },
    {
      "cell_type": "code",
      "source": [
        "y_true = y_test\n",
        "median_absolute_error(y_true,y_predict)"
      ],
      "metadata": {
        "id": "kdUVL22fwNjM",
        "colab": {
          "base_uri": "https://localhost:8080/"
        },
        "outputId": "a35fc041-18d2-408d-ae66-d8b44e0e3d16"
      },
      "execution_count": 44,
      "outputs": [
        {
          "output_type": "execute_result",
          "data": {
            "text/plain": [
              "7616.469091657607"
            ]
          },
          "metadata": {},
          "execution_count": 44
        }
      ]
    },
    {
      "cell_type": "code",
      "source": [
        "y_true = y_test\n",
        "r2_score(y_true,y_predict)"
      ],
      "metadata": {
        "colab": {
          "base_uri": "https://localhost:8080/"
        },
        "id": "F1V2F1aW5v4F",
        "outputId": "d4c8b3c3-487b-4f4f-e195-a98cefaef37e"
      },
      "execution_count": 43,
      "outputs": [
        {
          "output_type": "execute_result",
          "data": {
            "text/plain": [
              "0.901060004949187"
            ]
          },
          "metadata": {},
          "execution_count": 43
        }
      ]
    },
    {
      "cell_type": "markdown",
      "source": [],
      "metadata": {
        "id": "K7DSwHtavWcz"
      }
    }
  ]
}